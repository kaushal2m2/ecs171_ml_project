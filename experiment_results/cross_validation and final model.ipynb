{
 "cells": [
  {
   "cell_type": "code",
   "execution_count": 110,
   "metadata": {},
   "outputs": [],
   "source": [
    "import pandas as pd\n",
    "import numpy as np\n",
    "from sklearn.preprocessing import OrdinalEncoder\n",
    "from sklearn.preprocessing import MinMaxScaler\n",
    "from IPython.display import display\n",
    "from sklearn.model_selection import cross_validate\n",
    "from sklearn.metrics import classification_report, accuracy_score\n",
    "from sklearn.model_selection import train_test_split, GridSearchCV, KFold\n",
    "from imblearn.over_sampling import SMOTE\n",
    "from sklearn.model_selection import GridSearchCV\n",
    "from sklearn.pipeline import make_pipeline\n",
    "from sklearn.metrics import f1_score, recall_score, precision_score, accuracy_score\n",
    "from statistics import mean\n",
    "\n",
    "# load dataset\n",
    "df = pd.read_csv('data.csv')\n",
    "\n",
    "# drop the column id\n",
    "df = df.drop(columns=['id'])\n",
    "\n",
    "# Fill bmi with mean\n",
    "df['bmi'] = df['bmi'].fillna(df['bmi'].mean())\n",
    "\n",
    "X, y = df.drop('stroke', axis=1), df['stroke']\n",
    "X_train, X_test, y_train, y_test = train_test_split(X, y, test_size=0.2, random_state=42)\n",
    "X_test = X_test.assign(stroke=y_test)\n",
    "X_test.to_csv('test.csv', index=False)\n",
    "\n",
    "df = X_train.assign(stroke=y_train)\n",
    "\n",
    "# For each of the categorical attribtues, encode the set of categories to be 0 ~ (n_classes - 1)\n",
    "cats = ['gender', 'ever_married', 'work_type', 'Residence_type', 'smoking_status']\n",
    "encoder = OrdinalEncoder()\n",
    "df[cats] = encoder.fit_transform(df[cats])\n",
    "df = pd.get_dummies(df, columns = [\"work_type\", \"Residence_type\"], dtype=int) \n",
    "\n",
    "# normalize numerical data using the min-max normalization technique\n",
    "num = [\"age\", \"avg_glucose_level\", \"bmi\"]\n",
    "scaler = MinMaxScaler(feature_range=(0, 1))\n",
    "df[num] = scaler.fit_transform(df[num])\n",
    "\n",
    "# Split data into features and target\n",
    "X = df.drop('stroke', axis=1)\n",
    "y = df['stroke']\n",
    "\n",
    "# Apply SMOTE only on training data\n",
    "smote = SMOTE(random_state=42)"
   ]
  },
  {
   "cell_type": "code",
   "execution_count": 111,
   "metadata": {},
   "outputs": [
    {
     "name": "stdout",
     "output_type": "stream",
     "text": [
      "f1_mean = 0.20060616081957242\n",
      "recall_mean = 0.5207650918435232\n",
      "precision_mean = 0.12450139765841058\n",
      "accuracy_mean = 0.8234175495789188\n"
     ]
    }
   ],
   "source": [
    "from sklearn.ensemble import RandomForestClassifier\n",
    "\n",
    "rf = RandomForestClassifier(max_depth = 10, n_estimators = 14, random_state=42)\n",
    "f1 = []\n",
    "recall = []\n",
    "precision = []\n",
    "accuracy = []\n",
    "for i in range(0,9):\n",
    "    X_train, X_test, y_train, y_test = train_test_split(X, y, test_size=0.2, random_state=i)\n",
    "    x_os, y_os = smote.fit_resample(X_train, y_train)\n",
    "    rf.fit(x_os, y_os)\n",
    "    y_pred = rf.predict(X_test)\n",
    "    f1.append(f1_score(y_test, y_pred))\n",
    "    recall.append(recall_score(y_test, y_pred))\n",
    "    precision.append(precision_score(y_test, y_pred))\n",
    "    accuracy.append(accuracy_score(y_test, y_pred))\n",
    "print('f1_mean =', mean(f1))\n",
    "print('recall_mean =', mean(recall))\n",
    "print('precision_mean =', mean(precision))\n",
    "print('accuracy_mean =', mean(accuracy))\n"
   ]
  },
  {
   "cell_type": "code",
   "execution_count": 112,
   "metadata": {},
   "outputs": [
    {
     "name": "stdout",
     "output_type": "stream",
     "text": [
      "f1_mean = 0.1881939980417822\n",
      "recall_mean = 0.672609241400091\n",
      "precision_mean = 0.10952283103507039\n",
      "accuracy_mean = 0.7541428959521869\n"
     ]
    }
   ],
   "source": [
    "from sklearn.linear_model import LogisticRegression\n",
    "\n",
    "cls = LogisticRegression(C = 1, max_iter = 100, solver = 'newton-cg')\n",
    "f1 = []\n",
    "recall = []\n",
    "precision = []\n",
    "accuracy = []\n",
    "for i in range(0,9):\n",
    "    X_train, X_test, y_train, y_test = train_test_split(X, y, test_size=0.2, random_state=i)\n",
    "    x_os, y_os = smote.fit_resample(X_train, y_train)\n",
    "    cls.fit(x_os, y_os)\n",
    "    y_pred = cls.predict(X_test)\n",
    "    f1.append(f1_score(y_test, y_pred))\n",
    "    recall.append(recall_score(y_test, y_pred))\n",
    "    precision.append(precision_score(y_test, y_pred))\n",
    "    accuracy.append(accuracy_score(y_test, y_pred))\n",
    "print('f1_mean =', mean(f1))\n",
    "print('recall_mean =', mean(recall))\n",
    "print('precision_mean =', mean(precision))\n",
    "print('accuracy_mean =', mean(accuracy))"
   ]
  },
  {
   "cell_type": "code",
   "execution_count": 113,
   "metadata": {},
   "outputs": [
    {
     "name": "stdout",
     "output_type": "stream",
     "text": [
      "f1_mean = 0.1065752435944519\n",
      "recall_mean = 0.20792566184723046\n",
      "precision_mean = 0.0718919814536149\n",
      "accuracy_mean = 0.8556098886172236\n"
     ]
    }
   ],
   "source": [
    "from sklearn.svm import SVC\n",
    "\n",
    "svc = SVC(C = 100, gamma = 1, kernel = \"rbf\")\n",
    "f1 = []\n",
    "recall = []\n",
    "precision = []\n",
    "accuracy = []\n",
    "for i in range(0,9):\n",
    "    X_train, X_test, y_train, y_test = train_test_split(X, y, test_size=0.2, random_state=i)\n",
    "    x_os, y_os = smote.fit_resample(X_train, y_train)\n",
    "    svc.fit(x_os, y_os)\n",
    "    y_pred = svc.predict(X_test)\n",
    "    f1.append(f1_score(y_test, y_pred))\n",
    "    recall.append(recall_score(y_test, y_pred))\n",
    "    precision.append(precision_score(y_test, y_pred))\n",
    "    accuracy.append(accuracy_score(y_test, y_pred))\n",
    "print('f1_mean =', mean(f1))\n",
    "print('recall_mean =', mean(recall))\n",
    "print('precision_mean =', mean(precision))\n",
    "print('accuracy_mean =', mean(accuracy))"
   ]
  },
  {
   "cell_type": "code",
   "execution_count": 114,
   "metadata": {},
   "outputs": [
    {
     "name": "stdout",
     "output_type": "stream",
     "text": [
      "f1_mean = 0.16579961283863043\n",
      "recall_mean = 0.4458249327530373\n",
      "precision_mean = 0.10242463197101681\n",
      "accuracy_mean = 0.8103776147785927\n"
     ]
    }
   ],
   "source": [
    "from sklearn.neural_network import MLPClassifier\n",
    "\n",
    "mlp = MLPClassifier(hidden_layer_sizes = (15, 10), max_iter = 1000)\n",
    "f1 = []\n",
    "recall = []\n",
    "precision = []\n",
    "accuracy = []\n",
    "for i in range(0,9):\n",
    "    X_train, X_test, y_train, y_test = train_test_split(X, y, test_size=0.2, random_state=i)\n",
    "    x_os, y_os = smote.fit_resample(X_train, y_train)\n",
    "    mlp.fit(x_os, y_os)\n",
    "    y_pred = mlp.predict(X_test)\n",
    "    f1.append(f1_score(y_test, y_pred))\n",
    "    recall.append(recall_score(y_test, y_pred))\n",
    "    precision.append(precision_score(y_test, y_pred))\n",
    "    accuracy.append(accuracy_score(y_test, y_pred))\n",
    "print('f1_mean =', mean(f1))\n",
    "print('recall_mean =', mean(recall))\n",
    "print('precision_mean =', mean(precision))\n",
    "print('accuracy_mean =', mean(accuracy))"
   ]
  },
  {
   "cell_type": "code",
   "execution_count": 118,
   "metadata": {},
   "outputs": [
    {
     "name": "stdout",
     "output_type": "stream",
     "text": [
      "f1_mean = 0.13926399435339484\n",
      "recall_mean = 0.916215362947389\n",
      "precision_mean = 0.07541212260200778\n",
      "accuracy_mean = 0.5198315675088291\n"
     ]
    }
   ],
   "source": [
    "from sklearn.naive_bayes import GaussianNB\n",
    "\n",
    "gnb = GaussianNB(var_smoothing = 0.001)\n",
    "f1 = []\n",
    "recall = []\n",
    "precision = []\n",
    "accuracy = []\n",
    "for i in range(0,9):\n",
    "    X_train, X_test, y_train, y_test = train_test_split(X, y, test_size=0.2, random_state=i)\n",
    "    x_os, y_os = smote.fit_resample(X_train, y_train)\n",
    "    gnb.fit(x_os, y_os)\n",
    "    y_pred = gnb.predict(X_test)\n",
    "    f1.append(f1_score(y_test, y_pred))\n",
    "    recall.append(recall_score(y_test, y_pred))\n",
    "    precision.append(precision_score(y_test, y_pred))\n",
    "    accuracy.append(accuracy_score(y_test, y_pred))\n",
    "print('f1_mean =', mean(f1))\n",
    "print('recall_mean =', mean(recall))\n",
    "print('precision_mean =', mean(precision))\n",
    "print('accuracy_mean =', mean(accuracy))"
   ]
  },
  {
   "cell_type": "code",
   "execution_count": null,
   "metadata": {},
   "outputs": [
    {
     "name": "stdout",
     "output_type": "stream",
     "text": [
      "f1_mean = 0.12603538714065887\n",
      "recall_mean = 0.24123458226472666\n",
      "precision_mean = 0.08582847592809295\n",
      "accuracy_mean = 0.8497690844879109\n"
     ]
    }
   ],
   "source": [
    "from sklearn.neighbors import KNeighborsClassifier\n",
    "\n",
    "knn = KNeighborsClassifier(metric = 'manhattan', n_neighbors = 3, weights = 'distance')\n",
    "f1 = []\n",
    "recall = []\n",
    "precision = []\n",
    "accuracy = []\n",
    "for i in range(0,9):\n",
    "    X_train, X_test, y_train, y_test = train_test_split(X, y, test_size=0.2, random_state=i)\n",
    "    x_os, y_os = smote.fit_resample(X_train, y_train)\n",
    "    knn.fit(x_os, y_os)\n",
    "    y_pred = knn.predict(X_test)\n",
    "    f1.append(f1_score(y_test, y_pred))\n",
    "    recall.append(recall_score(y_test, y_pred))\n",
    "    precision.append(precision_score(y_test, y_pred))\n",
    "    accuracy.append(accuracy_score(y_test, y_pred))\n",
    "print('f1_mean =', mean(f1))\n",
    "print('recall_mean =', mean(recall))\n",
    "print('precision_mean =', mean(precision))\n",
    "print('accuracy_mean =', mean(accuracy))"
   ]
  },
  {
   "cell_type": "code",
   "execution_count": null,
   "metadata": {},
   "outputs": [
    {
     "name": "stdout",
     "output_type": "stream",
     "text": [
      "f1_mean = 0.10614822647688862\n",
      "recall_mean = 0.14346295281397584\n",
      "precision_mean = 0.08658153671106923\n",
      "accuracy_mean = 0.9023363216517251\n"
     ]
    }
   ],
   "source": [
    "from sklearn.ensemble import StackingClassifier\n",
    "base_models = [\n",
    "    ('rf', RandomForestClassifier(max_depth = 10, n_estimators = 14, random_state=42)),  # Random Forest\n",
    "    ('cls', LogisticRegression(max_iter=1000)),  # Logistic Regression\n",
    "    ('svc', SVC(C = 100, gamma = 1, kernel = \"rbf\")),  # SVM with linear kernel\n",
    "    ('gnb', GaussianNB(var_smoothing = 0.001)),  # Gaussian Naive Bayes\n",
    "    ('knn', KNeighborsClassifier(metric = 'manhattan', n_neighbors = 3, weights = 'distance')),  # k-Nearest Neighbors\n",
    "    ('mlp', MLPClassifier(hidden_layer_sizes = (15, 10), max_iter = 1000))  # Multilayer Perceptron\n",
    "]\n",
    "final_estimator = RandomForestClassifier(max_depth = 10, n_estimators = 14, random_state=42)\n",
    "stacking_classifier = StackingClassifier(estimators=base_models, final_estimator=final_estimator)\n",
    "f1 = []\n",
    "recall = []\n",
    "precision = []\n",
    "accuracy = []\n",
    "for i in range(0,9):\n",
    "    X_train, X_test, y_train, y_test = train_test_split(X, y, test_size=0.2, random_state=i)\n",
    "    x_os, y_os = smote.fit_resample(X_train, y_train)\n",
    "    stacking_classifier.fit(x_os, y_os)\n",
    "    y_pred = stacking_classifier.predict(X_test)\n",
    "    f1.append(f1_score(y_test, y_pred))\n",
    "    recall.append(recall_score(y_test, y_pred))\n",
    "    precision.append(precision_score(y_test, y_pred))\n",
    "    accuracy.append(accuracy_score(y_test, y_pred))\n",
    "print('f1_mean =', mean(f1))\n",
    "print('recall_mean =', mean(recall))\n",
    "print('precision_mean =', mean(precision))\n",
    "print('accuracy_mean =', mean(accuracy))"
   ]
  },
  {
   "cell_type": "code",
   "execution_count": null,
   "metadata": {},
   "outputs": [],
   "source": [
    "#prepare\n",
    "from sklearn.ensemble import RandomForestClassifier\n",
    "from sklearn.linear_model import LogisticRegression\n",
    "from sklearn.svm import SVC\n",
    "from sklearn.neural_network import MLPClassifier\n",
    "from sklearn.naive_bayes import GaussianNB\n",
    "from sklearn.neighbors import KNeighborsClassifier\n",
    "from sklearn.ensemble import StackingClassifier\n",
    "rf = RandomForestClassifier(max_depth = 10, n_estimators = 14, random_state=42)\n",
    "cls = LogisticRegression(max_iter=1000)\n",
    "svc = SVC(C = 100, gamma = 1, kernel = \"rbf\")\n",
    "mlp = MLPClassifier(hidden_layer_sizes = (15, 10), max_iter = 1000)\n",
    "gnb = GaussianNB(var_smoothing = 0.001)\n",
    "knn = KNeighborsClassifier(metric = 'manhattan', n_neighbors = 3, weights = 'distance')\n",
    "base_models = [\n",
    "    ('rf', RandomForestClassifier(max_depth = 10, n_estimators = 14, random_state=42)),  # Random Forest\n",
    "    ('cls', LogisticRegression(max_iter=1000)),  # Logistic Regression\n",
    "    ('svc', SVC(C = 100, gamma = 1, kernel = \"rbf\")),  # SVM with linear kernel\n",
    "    ('gnb', GaussianNB(var_smoothing = 0.001)),  # Gaussian Naive Bayes\n",
    "    ('knn', KNeighborsClassifier(metric = 'manhattan', n_neighbors = 3, weights = 'distance')),  # k-Nearest Neighbors\n",
    "    ('mlp', MLPClassifier(hidden_layer_sizes = (15, 10), max_iter = 1000))  # Multilayer Perceptron\n",
    "]\n",
    "final_estimator = RandomForestClassifier(max_depth = 10, n_estimators = 14, random_state=42)\n",
    "stacking_classifier = StackingClassifier(estimators=base_models, final_estimator=final_estimator)\n",
    "#fitting\n",
    "rf = rf.fit(x_os,y_os)\n",
    "cls = cls.fit(x_os,y_os)\n",
    "svc = svc.fit(x_os,y_os)\n",
    "mlp = mlp.fit(x_os,y_os)\n",
    "gnb = gnb.fit(x_os,y_os)\n",
    "knn = knn.fit(x_os,y_os)\n",
    "stacking_classifier = stacking_classifier.fit(x_os,y_os)"
   ]
  },
  {
   "cell_type": "code",
   "execution_count": null,
   "metadata": {},
   "outputs": [
    {
     "data": {
      "text/plain": [
       "['encoder/encoder.joblib']"
      ]
     },
     "execution_count": 109,
     "metadata": {},
     "output_type": "execute_result"
    }
   ],
   "source": [
    "from joblib import dump\n",
    "\n",
    "dump(rf, 'models/rf_model.joblib')\n",
    "dump(cls, 'models/cls_model.joblib')\n",
    "dump(svc, 'models/svc_model.joblib')\n",
    "dump(mlp, 'models/mlp_model.joblib')\n",
    "dump(gnb, 'models/gnb_model.joblib')\n",
    "dump(knn, 'models/knn_model.joblib')\n",
    "dump(stacking_classifier, 'models/stacking_classifier_model.joblib')\n",
    "\n",
    "dump(scaler, 'scaler/scaler.joblib')\n",
    "\n",
    "dump(encoder, 'encoder/encoder.joblib')"
   ]
  }
 ],
 "metadata": {
  "kernelspec": {
   "display_name": "workplace",
   "language": "python",
   "name": "python3"
  },
  "language_info": {
   "codemirror_mode": {
    "name": "ipython",
    "version": 3
   },
   "file_extension": ".py",
   "mimetype": "text/x-python",
   "name": "python",
   "nbconvert_exporter": "python",
   "pygments_lexer": "ipython3",
   "version": "3.12.1"
  }
 },
 "nbformat": 4,
 "nbformat_minor": 2
}
